{
 "cells": [
  {
   "cell_type": "code",
   "execution_count": 2,
   "metadata": {},
   "outputs": [],
   "source": [
    "import cv2\n",
    "import numpy as np\n",
    "import os\n",
    "from zipfile import ZipFile\n",
    "import shutil"
   ]
  },
  {
   "cell_type": "code",
   "execution_count": 45,
   "metadata": {},
   "outputs": [],
   "source": [
    "archieve = 'tlights.zip'\n",
    "unpacked = 'unpacked'\n",
    "\n",
    "with ZipFile(archieve, 'r') as zip_ref:\n",
    "    zip_ref.extractall(unpacked)"
   ]
  },
  {
   "cell_type": "code",
   "execution_count": 46,
   "metadata": {},
   "outputs": [],
   "source": [
    "tlights_folder = os.path.join(unpacked, 'tlights')\n",
    "file_list = os.listdir(tlights_folder)\n",
    "file_list.sort()\n",
    "\n",
    "output_folder = {\n",
    "    \"red\": os.path.join(unpacked, 'red_signals'),\n",
    "    \"green\": os.path.join(unpacked, 'green_signals'),\n",
    "    \"yellow\": os.path.join(unpacked, 'yellow_signals'),\n",
    "    \"unclassifiable\": os.path.join(unpacked, 'unclassifiable_signals')\n",
    "    }\n",
    "\n",
    "for dir_path in output_folder.values():\n",
    "    os.makedirs(dir_path, exist_ok=True)"
   ]
  },
  {
   "cell_type": "code",
   "execution_count": 47,
   "metadata": {},
   "outputs": [],
   "source": [
    "def classify_traffic_light(image_path):\n",
    "    # Load the image\n",
    "    img = cv2.imread(image_path)\n",
    "    \n",
    "\n",
    "    img_yuv = cv2.cvtColor(img, cv2.COLOR_BGR2YUV)\n",
    "    img_yuv[:,:,0] = cv2.equalizeHist(img_yuv[:,:,0])\n",
    "    img = cv2.cvtColor(img_yuv, cv2.COLOR_YUV2BGR)\n",
    "    \n",
    "    h, w = img.shape[0], img.shape[1] \n",
    "    center = (w//2, h//2) \n",
    "    radius = min(w, h)//2 \n",
    "    mask = np.zeros((h, w), dtype=np.uint8) \n",
    "    cv2.circle(mask, center, radius, (1, 1, 1), thickness=-1)\n",
    "    \n",
    "\n",
    "    img = cv2.bitwise_and(img, img, mask=mask)  \n",
    "    hsv = cv2.cvtColor(img, cv2.COLOR_BGR2HSV)\n",
    "    \n",
    "    \n",
    "    red_lower1 = np.array([0, 50, 50])\n",
    "    red_upper1 = np.array([10, 255, 255])\n",
    "    red_lower2 = np.array([160, 50, 50])\n",
    "    red_upper2 = np.array([180, 255, 255])\n",
    "    \n",
    "    yellow_lower = np.array([15, 100, 100])\n",
    "    yellow_upper = np.array([30, 255, 255])\n",
    "    \n",
    "    green_lower = np.array([40, 50, 50])\n",
    "    green_upper = np.array([90, 255, 255])\n",
    "    \n",
    "    \n",
    "    mask_red1 = cv2.inRange(hsv, red_lower1, red_upper1)\n",
    "    mask_red2 = cv2.inRange(hsv, red_lower2, red_upper2)\n",
    "    mask_red = cv2.add(mask_red1, mask_red2)\n",
    "    mask_yellow = cv2.inRange(hsv, yellow_lower, yellow_upper)\n",
    "    mask_green = cv2.inRange(hsv, green_lower, green_upper)\n",
    "    \n",
    "    \n",
    "    count_red = cv2.countNonZero(mask_red)\n",
    "    count_yellow = cv2.countNonZero(mask_yellow)\n",
    "    count_green = cv2.countNonZero(mask_green)\n",
    "\n",
    "\n",
    "    max_count = max(count_red, count_yellow, count_green)\n",
    "    if max_count < 50:  \n",
    "        return \"unclassifiable\"\n",
    "    elif max_count == count_red:\n",
    "        return \"red\"\n",
    "    elif max_count == count_yellow:\n",
    "        return \"yellow\"\n",
    "    elif max_count == count_green:\n",
    "        return \"green\""
   ]
  },
  {
   "cell_type": "code",
   "execution_count": 48,
   "metadata": {},
   "outputs": [],
   "source": [
    "red_signals = []\n",
    "green_signals = []\n",
    "yellow_signals = []\n",
    "unclassifiable_signals = []"
   ]
  },
  {
   "cell_type": "code",
   "execution_count": 49,
   "metadata": {},
   "outputs": [],
   "source": [
    "for file_name in file_list:\n",
    "    file_path = os.path.join(tlights_folder, file_name)\n",
    "    classification = classify_traffic_light(file_path)\n",
    "    \n",
    "    output_dir = output_folder[classification]\n",
    "    shutil.move(file_path, os.path.join(output_dir, file_name))\n",
    "\n",
    "    if classification == \"red\":\n",
    "        red_signals.append(file_name)\n",
    "    elif classification == \"green\":\n",
    "        green_signals.append(file_name)\n",
    "    elif classification == \"yellow\":\n",
    "        yellow_signals.append(file_name)\n",
    "    else:\n",
    "        unclassifiable_signals.append(file_name)"
   ]
  },
  {
   "cell_type": "code",
   "execution_count": 50,
   "metadata": {},
   "outputs": [
    {
     "name": "stdout",
     "output_type": "stream",
     "text": [
      "Red signals: 14\n",
      "Green signals: 32\n",
      "Yellow signals: 3\n",
      "Unclassifiable signals: 1\n"
     ]
    }
   ],
   "source": [
    "print(\"Red signals:\", len(red_signals))\n",
    "print(\"Green signals:\", len(green_signals))\n",
    "print(\"Yellow signals:\", len(yellow_signals))\n",
    "print(\"Unclassifiable signals:\", len(unclassifiable_signals))"
   ]
  }
 ],
 "metadata": {
  "kernelspec": {
   "display_name": "Python 3",
   "language": "python",
   "name": "python3"
  },
  "language_info": {
   "codemirror_mode": {
    "name": "ipython",
    "version": 3
   },
   "file_extension": ".py",
   "mimetype": "text/x-python",
   "name": "python",
   "nbconvert_exporter": "python",
   "pygments_lexer": "ipython3",
   "version": "3.11.2"
  },
  "orig_nbformat": 4
 },
 "nbformat": 4,
 "nbformat_minor": 2
}
